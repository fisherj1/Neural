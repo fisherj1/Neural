{
 "cells": [
  {
   "cell_type": "markdown",
   "metadata": {
    "id": "rJomvh6Qn2Le"
   },
   "source": [
    "# Занятие 4 - Сверточные нейронные сети (Сonvolutional neural network, CNN)"
   ]
  },
  {
   "cell_type": "markdown",
   "metadata": {
    "id": "4f_jzrUnn_XT"
   },
   "source": [
    "## Импорт необходимых библиотек"
   ]
  },
  {
   "cell_type": "code",
   "execution_count": null,
   "metadata": {
    "id": "mJsfIMxb2HqO"
   },
   "outputs": [],
   "source": [
    "from PIL import Image, ImageFilter\n",
    "import numpy as np\n",
    "import requests\n",
    "from io import BytesIO\n",
    "import matplotlib.pyplot as plt\n",
    "from scipy import signal\n",
    "import tensorflow as tf"
   ]
  },
  {
   "cell_type": "code",
   "execution_count": null,
   "metadata": {
    "id": "Mg6T5hiM2HqZ"
   },
   "outputs": [],
   "source": [
    "from tensorflow.keras.models import Sequential, Model\n",
    "from tensorflow.keras.layers import Conv2D, \\\n",
    "                                    Dense, \\\n",
    "                                    MaxPool2D,\\\n",
    "                                    Dropout, \\\n",
    "                                    Flatten, \\\n",
    "                                    BatchNormalization\n",
    "from tensorflow.keras.datasets import mnist"
   ]
  },
  {
   "cell_type": "markdown",
   "metadata": {
    "id": "awK2NrD62Hqd"
   },
   "source": [
    "Импорт библиотеки для рисования графиков и изображений"
   ]
  },
  {
   "cell_type": "code",
   "execution_count": null,
   "metadata": {
    "id": "b79Kq6mR2Hqd"
   },
   "outputs": [],
   "source": [
    "%matplotlib inline\n",
    "import seaborn as sns"
   ]
  },
  {
   "cell_type": "markdown",
   "metadata": {
    "id": "vJmNJaQV2Hqh"
   },
   "source": [
    "Импорт вспомогательных библиотек"
   ]
  },
  {
   "cell_type": "code",
   "execution_count": null,
   "metadata": {
    "id": "mYtCKDOO2Hqh"
   },
   "outputs": [],
   "source": [
    "from sklearn.metrics import confusion_matrix\n",
    "import itertools"
   ]
  },
  {
   "cell_type": "markdown",
   "metadata": {
    "id": "bo8oGvdZobQ0"
   },
   "source": [
    "## Включение вычислений на GPU"
   ]
  },
  {
   "cell_type": "code",
   "execution_count": null,
   "metadata": {
    "id": "V4M454cC2HqT"
   },
   "outputs": [],
   "source": [
    "gpus = tf.config.experimental.list_physical_devices('GPU')\n",
    "if gpus:\n",
    "  try:\n",
    "    # Currently, memory growth needs to be the same across GPUs\n",
    "    for gpu in gpus:\n",
    "      tf.config.experimental.set_memory_growth(gpu, True)\n",
    "    logical_gpus = tf.config.experimental.list_logical_devices('GPU')\n",
    "    print(len(gpus), \"Physical GPUs,\", len(logical_gpus), \"Logical GPUs\")\n",
    "  except RuntimeError as e:\n",
    "    # Memory growth must be set before GPUs have been initialized\n",
    "    print(e)"
   ]
  },
  {
   "cell_type": "markdown",
   "metadata": {
    "id": "2uAIKmzif432"
   },
   "source": [
    "## Демонстрация воздействия операции свёртки на изображение"
   ]
  },
  {
   "cell_type": "markdown",
   "metadata": {
    "id": "Sd9r1k5po7v1"
   },
   "source": [
    "Загрузим изображение и посмотрим как раличные свёртки на него воздествуют"
   ]
  },
  {
   "cell_type": "code",
   "execution_count": null,
   "metadata": {
    "id": "aL17yAZYpEUy"
   },
   "outputs": [],
   "source": [
    "response = requests.get(\"https://www.culture.ru/s/vopros/kremlin/images/tild3264-3233-4131-b836-623939356634__noroot.png\")\n",
    "img = Image.open(BytesIO(response.content))\n",
    "# img = Image.open(\"image.jpg\") # For local image\n",
    "img.load()\n",
    "img=img.resize((1258,1258))\n",
    "img_color = img.convert(\"RGB\")\n",
    "data_color = np.asarray(img_color, dtype=\"int32\")\n",
    "img_gray = img.convert(\"LA\")\n",
    "data = np.asarray(img_gray, dtype=\"int32\")\n",
    "data = data.astype(\"float32\")[:,:,0]/255\n",
    "img.close()"
   ]
  },
  {
   "cell_type": "code",
   "execution_count": null,
   "metadata": {
    "id": "m8gR3DxT2HqW"
   },
   "outputs": [],
   "source": [
    "conv_kernels = list()\n",
    "conv_kernels.append(np.array([[-1,0,1], [-1,0,1], [-1,0,1]]))\n",
    "conv_kernels.append(np.array([[1,0,-1], [1,0,-1], [1,0,-1]]))\n",
    "\n",
    "conv_kernels.append(np.array([[-1,-1,-1], [0,0,0], [1,1,1]]))\n",
    "conv_kernels.append(np.array([[1,1,1], [0,0,0], [-1,-1,-1]]))\n",
    "\n",
    "conv_kernels.append(np.array([[0,-1,-1], [1,0,-1], [1,1,0]]))\n",
    "conv_kernels.append(np.array([[-1,-1,0], [-1,0,1], [0,1,1]]))\n",
    "\n",
    "fig = plt.figure(figsize=(30,80))\n",
    "fig.add_subplot(len(conv_kernels) + 1, 1, 1)\n",
    "plt.imshow(data, cmap='gray')\n",
    "for i in range(len(conv_kernels)):\n",
    "    cdata = signal.convolve2d(data, conv_kernels[i], 'valid')\n",
    "    fig.add_subplot(len(conv_kernels) + 1, 1, i+2)\n",
    "    plt.imshow(cdata, cmap='gray')\n",
    "plt.show()"
   ]
  },
  {
   "cell_type": "markdown",
   "metadata": {
    "id": "kpOMGeUJ2Hqk"
   },
   "source": [
    "Перевод данных в таблицу тренировочных изображений, их классов (какая это цифра), а также тестовой выборки"
   ]
  },
  {
   "cell_type": "markdown",
   "metadata": {
    "id": "GSiHremxp6U8"
   },
   "source": [
    "## Создание свёрточной модели нейронной сети\n"
   ]
  },
  {
   "cell_type": "markdown",
   "metadata": {
    "id": "gOMHGLy5sGvz"
   },
   "source": [
    "Загрузка всем mnist и его нормировка"
   ]
  },
  {
   "cell_type": "code",
   "execution_count": null,
   "metadata": {
    "id": "8QDACfKl2Hql"
   },
   "outputs": [],
   "source": [
    "(x_train, y_train),(x_test, y_test) = mnist.load_data()\n",
    "x_train, x_test = x_train / 255.0, x_test / 255.0\n",
    "# Reshape the images.\n",
    "x_train = np.expand_dims(x_train, axis=3)\n",
    "x_test = np.expand_dims(x_test, axis=3)\n",
    "input_shape = x_train[0].shape"
   ]
  },
  {
   "cell_type": "markdown",
   "metadata": {
    "id": "TtaaovnnsKu6"
   },
   "source": [
    "Определение свёрточной модели"
   ]
  },
  {
   "cell_type": "code",
   "execution_count": null,
   "metadata": {
    "id": "6Fq2A90tkdAT"
   },
   "outputs": [],
   "source": [
    "model = Sequential([\n",
    "  Conv2D(32,kernel_size=(3,3), input_shape=input_shape, activation ='relu', padding='same'),\n",
    "\tConv2D(32,kernel_size=(3,3), activation ='relu', padding='same'),\n",
    "\tMaxPool2D(pool_size=(2, 2)),\n",
    "\t\n",
    "\n",
    "\tConv2D(64,kernel_size=(3,3), activation ='relu', padding = 'same'),\n",
    "\tConv2D(64,kernel_size=(3,3), activation ='relu', padding='same'),\n",
    "  MaxPool2D(pool_size=(2, 2)),\n",
    "    \n",
    "\tFlatten(),\n",
    "  Dense(128, activation=tf.nn.relu),\n",
    "  Dropout(0.25),\n",
    "  Dense(10, activation=tf.nn.softmax)])"
   ]
  },
  {
   "cell_type": "code",
   "execution_count": null,
   "metadata": {
    "id": "EHGmXmtf2HrB"
   },
   "outputs": [],
   "source": [
    "model.compile(optimizer=\"adam\",\n",
    "              loss=tf.keras.losses.sparse_categorical_crossentropy,\n",
    "              metrics=['accuracy'])"
   ]
  },
  {
   "cell_type": "code",
   "execution_count": null,
   "metadata": {
    "id": "16LhEM4j2HrD"
   },
   "outputs": [],
   "source": [
    "model.summary()"
   ]
  },
  {
   "cell_type": "markdown",
   "metadata": {
    "id": "Kvz_BHuk2HrG"
   },
   "source": [
    "Теперь мы можем запустить обучение на обучающей выборке"
   ]
  },
  {
   "cell_type": "code",
   "execution_count": null,
   "metadata": {
    "id": "S8dxWkBW2HrG"
   },
   "outputs": [],
   "source": [
    "history = model.fit(x_train,\n",
    "                    y_train,\n",
    "                    epochs=5,\n",
    "                    validation_data=(x_test, y_test))"
   ]
  },
  {
   "cell_type": "code",
   "execution_count": null,
   "metadata": {
    "id": "yTKitlCI2HrJ"
   },
   "outputs": [],
   "source": [
    "loss, acc = model.evaluate(x_train, y_train)\n",
    "print(\"Loss = {}, accuracy = {}\".format(loss, acc))"
   ]
  },
  {
   "cell_type": "code",
   "execution_count": null,
   "metadata": {
    "id": "DTPpGyT72HrL"
   },
   "outputs": [],
   "source": [
    "loss, acc = model.evaluate(x_test, y_test)\n",
    "print(\"Loss = {}, accuracy = {}\".format(loss, acc))"
   ]
  },
  {
   "cell_type": "markdown",
   "metadata": {
    "id": "eCXN2iFds8E7"
   },
   "source": [
    "Заметьте, точность свёрточной сети заметно выше чем несвёрточной. Это связано с возможностью интеллектуального обобщения входных образов."
   ]
  },
  {
   "cell_type": "markdown",
   "metadata": {
    "id": "MZE_Nig2x6rh"
   },
   "source": [
    "## Инструменты для рисования графиков и отображения изображений"
   ]
  },
  {
   "cell_type": "markdown",
   "metadata": {
    "id": "VXJal1rPyPF4"
   },
   "source": [
    "### Matplotlib"
   ]
  },
  {
   "cell_type": "markdown",
   "metadata": {
    "id": "UnaqwuLyySpP"
   },
   "source": [
    "Matplotlib - является основной графической библиотекой, которую мы будем применять в курсе нейронных сетей. Эта библиотека позволяет строить немеренное количество разнообразных графиков, гистограмм, тепловых карт и т.д.\n",
    "\n",
    "Посмотреть примеры и документацию можно по ссылке:\n",
    "https://matplotlib.org/3.1.1/gallery/index.html"
   ]
  },
  {
   "cell_type": "code",
   "execution_count": null,
   "metadata": {
    "id": "qY8Vc_NTyNvG"
   },
   "outputs": [],
   "source": [
    "import matplotlib.pyplot as plt\n",
    "\n",
    "plt.xlabel('Epochs')\n",
    "plt.ylabel(\"Loss\")\n",
    "plt.plot(history.epoch, history.history[\"loss\"], color=\"blue\", label='Train')\n",
    "plt.plot(history.epoch, history.history['val_loss'], '--', label='Val', color=\"blue\")\n",
    "\n",
    "plt.legend()\n",
    "plt.xlim([0, max(history.epoch)])\n",
    "plt.show()"
   ]
  },
  {
   "cell_type": "markdown",
   "metadata": {
    "id": "SSb8qOI3yJnR"
   },
   "source": [
    "### Матрица ошибок"
   ]
  },
  {
   "cell_type": "markdown",
   "metadata": {
    "id": "tBQORs88texp"
   },
   "source": [
    "**Матрица ошибок** - чтобы лучше понять в каких случаях ошиблась нейронная сеть, можно построить матрицу ошибок: по оси Х будет предсказанная цифра, а по оси Y правильный вариант. В идеальном варианте все предсказания будут лежать на диагонали."
   ]
  },
  {
   "cell_type": "code",
   "execution_count": null,
   "metadata": {
    "id": "WfcX6yb1tbvb"
   },
   "outputs": [],
   "source": [
    "%matplotlib inline\n",
    "\n",
    "def plot_confusion_matrix(cm ,classes,\n",
    "                         normalize=False,\n",
    "                         title='Confusion matrix',\n",
    "                         cmap=plt.cm.Blues):\n",
    "    \"\"\"\n",
    "    This function prints and plots the confusion matrix.\n",
    "    Normalization can be appplied by setting `normalize=True`.\n",
    "    \"\"\"\n",
    "    plt.figure(figsize=(16,10))\n",
    "    plt.imshow(cm, interpolation='nearest', cmap=cmap)\n",
    "    plt.title(title)\n",
    "    plt.colorbar()\n",
    "    tick_marks = np.arange(len(classes))\n",
    "    plt.xticks(tick_marks, classes)\n",
    "    plt.xlim((-0.5, len(classes)-0.5))\n",
    "    plt.ylim((-0.5, len(classes)-0.5))\n",
    "    plt.yticks(tick_marks, classes)\n",
    "    \n",
    "    if normalize:\n",
    "        cm = cm.astype('float') / cm.sum(axis=1)[:, np.newaxis]\n",
    "        \n",
    "    thresh = cm.max() / 2.\n",
    "    for i, j in itertools.product(range(cm.shape[0]), range(cm.shape[1])):\n",
    "        plt.text(j, i, cm[i, j],\n",
    "                horizontalalignment=\"center\",\n",
    "                color=\"white\" if cm[i,j] > thresh else \"black\")\n",
    "        \n",
    "    plt.tight_layout()\n",
    "    plt.ylabel('True label')\n",
    "    plt.xlabel('Predicted label')\n",
    "    plt.show()\n",
    "    \n",
    "X_val = x_test\n",
    "Y_true = y_test\n",
    "Y_pred = model.predict(X_val)\n",
    "Y_pred_classes = np.argmax(Y_pred, axis = 1)\n",
    "confusion_mtx = confusion_matrix(Y_true, Y_pred_classes)\n",
    "plot_confusion_matrix(confusion_mtx, classes=range(10))"
   ]
  },
  {
   "cell_type": "markdown",
   "metadata": {
    "id": "hkguM_PO250T"
   },
   "source": [
    "### Ещё пример отображения цифр"
   ]
  },
  {
   "cell_type": "code",
   "execution_count": null,
   "metadata": {
    "id": "WiSe8kLt2HrW"
   },
   "outputs": [],
   "source": [
    "# Errors are difference between predicted labels and true labels\n",
    "errors = (Y_pred_classes - Y_true != 0)\n",
    "\n",
    "Y_pred_classes_errors = Y_pred_classes[errors]\n",
    "Y_pred_errors = Y_pred[errors]\n",
    "Y_true_errors = Y_true[errors]\n",
    "X_val_errors = X_val[errors]\n",
    "\n",
    "def display_errors(errors_index,img_errors,pred_errors, obs_errors):\n",
    "    \"\"\" This function shows 6 images with their predicted and real labels\"\"\"\n",
    "    n = 0\n",
    "    nrows = 2\n",
    "    ncols = 3\n",
    "    fig, ax = plt.subplots(nrows,ncols,sharex=True,sharey=True)\n",
    "    for row in range(nrows):\n",
    "        for col in range(ncols):\n",
    "            error = errors_index[n]\n",
    "            ax[row,col].imshow((img_errors[error]).reshape((28,28)), cmap=\"gray_r\")\n",
    "            ax[row,col].set_title(\"Predicted label :{}\\nTrue label :{}\".format(pred_errors[error],obs_errors[error]))\n",
    "            n += 1\n",
    "\n",
    "# Probabilities of the wrong predicted numbers\n",
    "Y_pred_errors_prob = np.max(Y_pred_errors,axis = 1)\n",
    "\n",
    "# Predicted probabilities of the true values in the error set\n",
    "true_prob_errors = np.diagonal(np.take(Y_pred_errors, Y_true_errors, axis=1))\n",
    "\n",
    "# Difference between the probability of the predicted label and the true label\n",
    "delta_pred_true_errors = Y_pred_errors_prob - true_prob_errors\n",
    "\n",
    "# Sorted list of the delta prob errors\n",
    "sorted_dela_errors = np.argsort(delta_pred_true_errors)\n",
    "\n",
    "# Top 6 errors \n",
    "most_important_errors = sorted_dela_errors[-6:]\n",
    "\n",
    "# Show the top 6 errors\n",
    "display_errors(most_important_errors, X_val_errors, Y_pred_classes_errors, Y_true_errors)"
   ]
  },
  {
   "cell_type": "markdown",
   "metadata": {
    "id": "T63OZ9c14t89"
   },
   "source": [
    "## ✅ Задание 1: \n",
    "Отобразить с помощью matlpotlib на одном графике историю accuracy для двух моделей с 10-ю эпохами:\n",
    " + модель с прошлого занятия\n",
    " + свёрточная модель с этого занятия"
   ]
  },
  {
   "cell_type": "code",
   "execution_count": null,
   "metadata": {
    "id": "xznY625c4tXe"
   },
   "outputs": [],
   "source": [
    "# model_old =\n",
    "\n",
    "# model_cnn =\n",
    "\n",
    "# plt.plot(\n",
    "\n",
    "# plt.show("
   ]
  },
  {
   "cell_type": "markdown",
   "metadata": {
    "id": "Estz2iIsAPYJ"
   },
   "source": [
    "### ✅ Задание 2:\n",
    "\n",
    "Вывести слои активации модели нейронной сети, то есть изображения, прошедшие через слои нейронной сети.\n",
    "\n",
    "+ Найти в документации [Tensorflow](https://www.tensorflow.org/api_docs/python/tf) как достать слои активации\n",
    "+ Найти в документации или в примерах [Matplotlib](https://matplotlib.org/3.1.1/gallery/index.html) как вывести несколько изображений близко к друг-другу\n",
    "+ Поскольку изображения будут не в диапазоне (0, 255), то найти как вывести тепловую карту\n",
    "+ Вывести несколько слоёв активации для свёрточной модели"
   ]
  },
  {
   "cell_type": "code",
   "execution_count": null,
   "metadata": {
    "id": "fW2OSq-yrXiU"
   },
   "outputs": [],
   "source": [
    "# layer_outputs = [layer.output for layer in model.layers[:-1]]\n",
    "# activation_model = tf.keras.Model(inputs = model.input, outputs = layer_outputs)\n",
    "\n",
    "# test_im = x_train[2979] # Random image\n",
    "# activations = activation_model.predict(test_im.reshape(1,28,28,1))\n",
    "\n",
    "# layer_activation = activations[0]\n",
    "\n",
    "# DRAW PLOTS"
   ]
  }
 ],
 "metadata": {
  "accelerator": "GPU",
  "colab": {
   "collapsed_sections": [
    "4f_jzrUnn_XT",
    "bo8oGvdZobQ0",
    "2uAIKmzif432",
    "GSiHremxp6U8",
    "VXJal1rPyPF4",
    "SSb8qOI3yJnR",
    "hkguM_PO250T"
   ],
   "name": "Lesson_04 - mnist_cnn_full.ipynb",
   "provenance": []
  },
  "kernelspec": {
   "display_name": "neural1",
   "language": "python",
   "name": "neural1"
  },
  "language_info": {
   "codemirror_mode": {
    "name": "ipython",
    "version": 3
   },
   "file_extension": ".py",
   "mimetype": "text/x-python",
   "name": "python",
   "nbconvert_exporter": "python",
   "pygments_lexer": "ipython3",
   "version": "3.6.9"
  }
 },
 "nbformat": 4,
 "nbformat_minor": 1
}
